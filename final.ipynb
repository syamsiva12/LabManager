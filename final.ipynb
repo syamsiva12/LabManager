{
 "cells": [
  {
   "cell_type": "code",
   "execution_count": 31,
   "metadata": {},
   "outputs": [],
   "source": [
    "import sys\n",
    "import re\n",
    "sys.path.append(r'C:/Users/shyam.p/Desktop/PRO/')\n",
    "from  lib.initiate_ssh_connection import SSHClient\n",
    "import mysql.connector\n",
    "import socket\n",
    "import json\n",
    "import threading\n",
    "import time\n",
    "import requests\n"
   ]
  },
  {
   "cell_type": "code",
   "execution_count": 3,
   "metadata": {},
   "outputs": [],
   "source": [
    "############# NEED TO FUNCTION ###################################################\n",
    "\n",
    "# Replace these values with your actual database credentials\n",
    "def sql_connect():\n",
    "    host = \"192.168.109.137\"\n",
    "    port = 3306\n",
    "    user = \"root\"\n",
    "    password = \"password\"\n",
    "    database = \"DEVICE_TRACKER\"\n",
    "\n",
    "    # Establish a connection to the database\n",
    "    connection = mysql.connector.connect(\n",
    "        host=host,\n",
    "        port=port,\n",
    "        user=user,\n",
    "        password=password,\n",
    "        database=database\n",
    "    )\n",
    "    return connection"
   ]
  },
  {
   "cell_type": "code",
   "execution_count": 4,
   "metadata": {},
   "outputs": [],
   "source": [
    "def get_dev_details():\n",
    "    dev = {}\n",
    "    connection = sql_connect()\n",
    "    try:\n",
    "    # Create a cursor to execute SQL queries\n",
    "        cursor = connection.cursor()\n",
    "\n",
    "        # Define the SQL query to retrieve IP and TAG from DEVICES table\n",
    "        query = \"SELECT IP, TAG FROM DEVICES\"\n",
    "\n",
    "        # Execute the query\n",
    "        cursor.execute(query)\n",
    "\n",
    "        # Fetch all the rows\n",
    "        rows = cursor.fetchall()\n",
    "\n",
    "        # Print the results\n",
    "        for row in rows:\n",
    "            ip, tag = row\n",
    "            dev[ip] = tag\n",
    "\n",
    "    except:\n",
    "        pass\n",
    "  #  cursor.close()\n",
    "    connection.close()\n",
    "    return dev\n",
    "\n",
    "def get_pass_details(ip):\n",
    "    connection = sql_connect()\n",
    "    cursor = connection.cursor()\n",
    "    query =  f\"SELECT USERNAME, PASSWORD FROM DEVICES WHERE IP = %s\"\n",
    "    cursor.execute(query, (ip,))\n",
    "    cred = cursor.fetchone()\n",
    "    connection.close()\n",
    "    return cred"
   ]
  },
  {
   "cell_type": "code",
   "execution_count": 5,
   "metadata": {},
   "outputs": [],
   "source": [
    "def check_ping(devices):\n",
    "    ping_status = dict()\n",
    "    for ip, tag in devices.items():\n",
    "        try:\n",
    "            # Create a socket object and attempt to connect to the IP address on port 80\n",
    "            sock = socket.create_connection((ip, 80), timeout=2)\n",
    "            sock.close()\n",
    "            ping_status[ip] = 'UP'\n",
    "        except (socket.timeout, socket.error):\n",
    "            ping_status[ip] = 'DOWN'\n",
    "    return ping_status, [i for i in ping_status.keys() if ping_status[i]=='UP']"
   ]
  },
  {
   "cell_type": "code",
   "execution_count": 6,
   "metadata": {},
   "outputs": [],
   "source": [
    "######################################## Dictonary To Json ##############################################"
   ]
  },
  {
   "cell_type": "code",
   "execution_count": 6,
   "metadata": {},
   "outputs": [
    {
     "data": {
      "text/plain": [
       "{'192.168.107.21': 'LAN-DEVICE', '192.168.107.95': 'HA-DUT-1'}"
      ]
     },
     "execution_count": 6,
     "metadata": {},
     "output_type": "execute_result"
    }
   ],
   "source": [
    "details = get_dev_details()\n",
    "details"
   ]
  },
  {
   "cell_type": "code",
   "execution_count": 32,
   "metadata": {},
   "outputs": [
    {
     "data": {
      "text/plain": [
       "['192.168.107.21']"
      ]
     },
     "execution_count": 32,
     "metadata": {},
     "output_type": "execute_result"
    }
   ],
   "source": [
    "_,l = check_ping(details)\n",
    "l"
   ]
  },
  {
   "cell_type": "code",
   "execution_count": 7,
   "metadata": {},
   "outputs": [],
   "source": [
    "def initiate_ssh(l):\n",
    "    status_check = {}\n",
    "    for ip in l:\n",
    "            status = {}\n",
    "            username, password = get_pass_details(ip)\n",
    "            obj = SSHClient(ip,username,password)\n",
    "            obj.connect()\n",
    "            intefaces = obj.run_execmcd(\"ifconfig  | awk '/^[a-zA-Z]/{print $1}'\")\n",
    "            intefaces = intefaces.split('\\n')\n",
    "            intefaces.remove('')\n",
    "            intefaces.remove('lo')\n",
    "            for i in intefaces:\n",
    "                interface = obj.run_execmcd(f\"ethtool {i} | grep 'Link detected' | awk '{{print $3}}'\")\n",
    "                status[i] = interface.strip()\n",
    "            status_check[ip] = status\n",
    "            obj.close_connection()\n",
    "    return json.dumps(status_check)"
   ]
  },
  {
   "cell_type": "code",
   "execution_count": null,
   "metadata": {},
   "outputs": [],
   "source": [
    "########################################################################### TESt #######################################################################################"
   ]
  },
  {
   "cell_type": "code",
   "execution_count": 10,
   "metadata": {},
   "outputs": [
    {
     "data": {
      "text/plain": [
       "{'192.168.107.21': 'LAN-DEVICE', '192.168.107.95': 'HA-DUT-1'}"
      ]
     },
     "execution_count": 10,
     "metadata": {},
     "output_type": "execute_result"
    }
   ],
   "source": [
    "details = get_dev_details()\n",
    "details\n",
    "'''Discription : This function return availabe device in the database with IP and Tag'''"
   ]
  },
  {
   "cell_type": "code",
   "execution_count": 20,
   "metadata": {},
   "outputs": [
    {
     "data": {
      "text/plain": [
       "['192.168.107.21']"
      ]
     },
     "execution_count": 20,
     "metadata": {},
     "output_type": "execute_result"
    }
   ],
   "source": [
    "l = check_ping(details)\n",
    "l\n",
    "#''' Discription : This function Returen status '''"
   ]
  },
  {
   "cell_type": "code",
   "execution_count": 46,
   "metadata": {},
   "outputs": [
    {
     "name": "stdout",
     "output_type": "stream",
     "text": [
      "Connected to 192.168.107.21\n",
      "Connection to 192.168.107.21 closed.\n"
     ]
    },
    {
     "data": {
      "text/plain": [
       "str"
      ]
     },
     "execution_count": 46,
     "metadata": {},
     "output_type": "execute_result"
    }
   ],
   "source": [
    "int_status = initiate_ssh(l)\n",
    "type(int_status) "
   ]
  },
  {
   "cell_type": "code",
   "execution_count": 48,
   "metadata": {},
   "outputs": [],
   "source": [
    "####################################################### Engin ###############################################\n",
    "def pipe():\n",
    "        sql_connect()\n",
    "        try:\n",
    "                data = get_dev_details()\n",
    "                ping_status, up_device = check_ping(data)  #up_device is buffer\n",
    "                val_json = initiate_ssh(up_device)\n",
    "                ping_status = json.dumps(ping_status)\n",
    "                url = \"http://localhost:5000/receive_data\" \n",
    "                headers = {'Content-Type': 'application/json'}\n",
    "                data_to_send = {'ping_status': ping_status, 'interface_status': val_json}\n",
    "                response = requests.post(url, json=data_to_send, headers=headers)\n",
    "                print(\"Sucessfully Sended....\")\n",
    "                return response\n",
    "        except:\n",
    "                print(\"Failed....\")\n",
    "                return False\n",
    "        \n",
    "        \n",
    "        "
   ]
  },
  {
   "cell_type": "code",
   "execution_count": 47,
   "metadata": {},
   "outputs": [
    {
     "name": "stdout",
     "output_type": "stream",
     "text": [
      "Connected to 192.168.107.21\n",
      "Connection to 192.168.107.21 closed.\n",
      "{\"192.168.107.21\": \"UP\", \"192.168.107.95\": \"DOWN\"} {\"192.168.107.21\": {\"eth0\": \"yes\", \"eth1\": \"yes\", \"eth2\": \"yes\"}}\n",
      "Sucessfully Sended....\n"
     ]
    },
    {
     "data": {
      "text/plain": [
       "<Response [200]>"
      ]
     },
     "execution_count": 47,
     "metadata": {},
     "output_type": "execute_result"
    }
   ],
   "source": [
    "pipe()"
   ]
  },
  {
   "cell_type": "code",
   "execution_count": 20,
   "metadata": {},
   "outputs": [
    {
     "name": "stdout",
     "output_type": "stream",
     "text": [
      "Connected to 192.168.107.21\n",
      "Connection to 192.168.107.21 closed.\n"
     ]
    },
    {
     "data": {
      "text/plain": [
       "{'192.168.107.21': 'UP', '192.168.107.95': 'DOWN'}"
      ]
     },
     "execution_count": 20,
     "metadata": {},
     "output_type": "execute_result"
    }
   ],
   "source": [
    "ping_status, val_json = pipe()\n",
    "ping_status"
   ]
  },
  {
   "cell_type": "code",
   "execution_count": 65,
   "metadata": {},
   "outputs": [],
   "source": [
    "stop_event = threading.Event()\n",
    "\n",
    "def engin(interval_seconds):\n",
    "    while not stop_event.is_set():\n",
    "        pipe()\n",
    "        time.sleep(interval_seconds)"
   ]
  },
  {
   "cell_type": "code",
   "execution_count": 66,
   "metadata": {},
   "outputs": [],
   "source": [
    "def start_engin():\n",
    "    interval_seconds = 10\n",
    "    stop_event = threading.Event()\n",
    "    engine_thread = threading.Thread(target=engin, args=(interval_seconds,))\n",
    "    engine_thread.start()\n",
    "    return engine_thread\n",
    "    \n",
    "    \n",
    "def stop_engin(instance):\n",
    "    stop_event.set()   \n",
    "    instance.join()"
   ]
  },
  {
   "cell_type": "code",
   "execution_count": 67,
   "metadata": {},
   "outputs": [
    {
     "name": "stdout",
     "output_type": "stream",
     "text": [
      "Connected to 192.168.107.21\n",
      "Connection to 192.168.107.21 closed.\n",
      "{\"192.168.107.21\": \"UP\", \"192.168.107.95\": \"DOWN\"} {\"192.168.107.21\": {\"eth0\": \"yes\", \"eth1\": \"yes\", \"eth2\": \"yes\"}}\n",
      "Sucessfully Sended....\n",
      "Connected to 192.168.107.21\n",
      "Connection to 192.168.107.21 closed.\n",
      "{\"192.168.107.21\": \"UP\", \"192.168.107.95\": \"DOWN\"} {\"192.168.107.21\": {\"eth0\": \"yes\", \"eth1\": \"yes\", \"eth2\": \"yes\"}}\n",
      "Sucessfully Sended....\n",
      "Connected to 192.168.107.21\n",
      "Connection to 192.168.107.21 closed.\n",
      "{\"192.168.107.21\": \"UP\", \"192.168.107.95\": \"DOWN\"} {\"192.168.107.21\": {\"eth0\": \"yes\", \"eth1\": \"yes\", \"eth2\": \"yes\"}}\n",
      "Sucessfully Sended....\n",
      "Connected to 192.168.107.21\n",
      "Connection to 192.168.107.21 closed.\n",
      "{\"192.168.107.21\": \"UP\", \"192.168.107.95\": \"DOWN\"} {\"192.168.107.21\": {\"eth0\": \"yes\", \"eth1\": \"yes\", \"eth2\": \"yes\"}}\n",
      "Sucessfully Sended....\n",
      "Connected to 192.168.107.21\n",
      "Connection to 192.168.107.21 closed.\n",
      "{\"192.168.107.21\": \"UP\", \"192.168.107.95\": \"DOWN\"} {\"192.168.107.21\": {\"eth0\": \"yes\", \"eth1\": \"yes\", \"eth2\": \"yes\"}}\n",
      "Sucessfully Sended....\n",
      "Connected to 192.168.107.21\n",
      "Connection to 192.168.107.21 closed.\n",
      "{\"192.168.107.21\": \"UP\", \"192.168.107.95\": \"DOWN\"} {\"192.168.107.21\": {\"eth0\": \"yes\", \"eth1\": \"yes\", \"eth2\": \"yes\"}}\n",
      "Sucessfully Sended....\n",
      "Connected to 192.168.107.21\n",
      "Connection to 192.168.107.21 closed.\n",
      "{\"192.168.107.21\": \"UP\", \"192.168.107.95\": \"DOWN\"} {\"192.168.107.21\": {\"eth0\": \"yes\", \"eth1\": \"yes\", \"eth2\": \"yes\"}}\n",
      "Sucessfully Sended....\n",
      "Connected to 192.168.107.21\n",
      "Connection to 192.168.107.21 closed.\n",
      "{\"192.168.107.21\": \"UP\", \"192.168.107.95\": \"DOWN\"} {\"192.168.107.21\": {\"eth0\": \"yes\", \"eth1\": \"yes\", \"eth2\": \"yes\"}}\n",
      "Sucessfully Sended....\n",
      "Connected to 192.168.107.21\n",
      "Connection to 192.168.107.21 closed.\n",
      "{\"192.168.107.21\": \"UP\", \"192.168.107.95\": \"DOWN\"} {\"192.168.107.21\": {\"eth0\": \"yes\", \"eth1\": \"yes\", \"eth2\": \"yes\"}}\n",
      "Sucessfully Sended....\n",
      "Connected to 192.168.107.21\n",
      "Connection to 192.168.107.21 closed.\n",
      "{\"192.168.107.21\": \"UP\", \"192.168.107.95\": \"DOWN\"} {\"192.168.107.21\": {\"eth0\": \"yes\", \"eth1\": \"yes\", \"eth2\": \"yes\"}}\n",
      "Sucessfully Sended....\n",
      "Connected to 192.168.107.21\n",
      "Connection to 192.168.107.21 closed.\n",
      "{\"192.168.107.21\": \"UP\", \"192.168.107.95\": \"DOWN\"} {\"192.168.107.21\": {\"eth0\": \"yes\", \"eth1\": \"yes\", \"eth2\": \"yes\"}}\n",
      "Sucessfully Sended....\n",
      "Connected to 192.168.107.21\n",
      "Connection to 192.168.107.21 closed.\n",
      "{\"192.168.107.21\": \"UP\", \"192.168.107.95\": \"DOWN\"} {\"192.168.107.21\": {\"eth0\": \"yes\", \"eth1\": \"yes\", \"eth2\": \"yes\"}}\n",
      "Sucessfully Sended....\n",
      "Connected to 192.168.107.21\n",
      "Connection to 192.168.107.21 closed.\n",
      "{\"192.168.107.21\": \"UP\", \"192.168.107.95\": \"DOWN\"} {\"192.168.107.21\": {\"eth0\": \"yes\", \"eth1\": \"yes\", \"eth2\": \"yes\"}}\n",
      "Sucessfully Sended....\n",
      "Connected to 192.168.107.21\n",
      "Connection to 192.168.107.21 closed.\n",
      "{\"192.168.107.21\": \"UP\", \"192.168.107.95\": \"DOWN\"} {\"192.168.107.21\": {\"eth0\": \"yes\", \"eth1\": \"yes\", \"eth2\": \"yes\"}}\n",
      "Sucessfully Sended....\n"
     ]
    }
   ],
   "source": [
    "ins = start_engin()"
   ]
  },
  {
   "cell_type": "code",
   "execution_count": 68,
   "metadata": {},
   "outputs": [],
   "source": [
    "stop_engin(ins)\n"
   ]
  },
  {
   "cell_type": "code",
   "execution_count": 25,
   "metadata": {},
   "outputs": [
    {
     "name": "stdout",
     "output_type": "stream",
     "text": [
      " * Serving Flask app '__main__'\n",
      " * Debug mode: on\n"
     ]
    },
    {
     "name": "stderr",
     "output_type": "stream",
     "text": [
      "WARNING: This is a development server. Do not use it in a production deployment. Use a production WSGI server instead.\n",
      " * Running on http://127.0.0.1:5000\n",
      "Press CTRL+C to quit\n",
      " * Restarting with stat\n"
     ]
    },
    {
     "ename": "SystemExit",
     "evalue": "1",
     "output_type": "error",
     "traceback": [
      "An exception has occurred, use %tb to see the full traceback.\n",
      "\u001b[1;31mSystemExit\u001b[0m\u001b[1;31m:\u001b[0m 1\n"
     ]
    },
    {
     "name": "stderr",
     "output_type": "stream",
     "text": [
      "C:\\Users\\shyam.p\\AppData\\Roaming\\Python\\Python311\\site-packages\\IPython\\core\\interactiveshell.py:3516: UserWarning: To exit: use 'exit', 'quit', or Ctrl-D.\n",
      "  warn(\"To exit: use 'exit', 'quit', or Ctrl-D.\", stacklevel=1)\n"
     ]
    }
   ],
   "source": []
  },
  {
   "cell_type": "code",
   "execution_count": null,
   "metadata": {},
   "outputs": [],
   "source": []
  }
 ],
 "metadata": {
  "kernelspec": {
   "display_name": "Python 3",
   "language": "python",
   "name": "python3"
  },
  "language_info": {
   "codemirror_mode": {
    "name": "ipython",
    "version": 3
   },
   "file_extension": ".py",
   "mimetype": "text/x-python",
   "name": "python",
   "nbconvert_exporter": "python",
   "pygments_lexer": "ipython3",
   "version": "3.11.4"
  }
 },
 "nbformat": 4,
 "nbformat_minor": 2
}
