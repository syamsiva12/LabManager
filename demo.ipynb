{
 "cells": [
  {
   "cell_type": "code",
   "execution_count": 1,
   "metadata": {},
   "outputs": [],
   "source": [
    "import sys\n",
    "import re\n",
    "sys.path.append(r'D:/backup/PRO/')\n",
    "from  lib.initiate_ssh_connection import SSHClient\n",
    "import mysql.connector\n",
    "import socket\n",
    "import json\n",
    "import threading\n",
    "import time\n",
    "import requests"
   ]
  },
  {
   "cell_type": "code",
   "execution_count": null,
   "metadata": {},
   "outputs": [],
   "source": [
    "def check_ping(devices):\n",
    "    ping_status = dict()\n",
    "    for ip, tag in devices.items():\n",
    "        try:\n",
    "            # Create a socket object and attempt to connect to the IP address on port 80\n",
    "            sock = socket.create_connection((ip, 80), timeout=2)\n",
    "            sock.close()\n",
    "            ping_status[ip] = 'UP'\n",
    "        except (socket.timeout, socket.error):\n",
    "            ping_status[ip] = 'DOWN'\n",
    "    return ping_status, [i for i in ping_status.keys() if ping_status[i]=='UP']"
   ]
  },
  {
   "cell_type": "code",
   "execution_count": null,
   "metadata": {},
   "outputs": [],
   "source": [
    "def check_ping(devices):\n",
    "    status_info = {}\n",
    "    ssh_list  = []\n",
    "    for tag, msip in devices:\n",
    "        ping_status = {}\n",
    "        for ip in msip:\n",
    "            try:\n",
    "            # Create a socket object and attempt to connect to the IP address on port 80\n",
    "                sock = socket.create_connection((ip, 80), timeout=2)\n",
    "                sock.close()\n",
    "                ping_status[ip] = 'UP'\n",
    "            except(socket.timeout, socket.error):\n",
    "                ping_status[ip] = 'DOWN'\n",
    "        status_info[tag] = ping_status\n",
    "    for tag,dev_list in status_info.items():\n",
    "        for ip,status in dev_list.items():\n",
    "            if status=='UP':\n",
    "                ssh_list.append(ip)\n",
    "                break\n",
    "    return status_info, ssh_list\n",
    "            \n",
    "            "
   ]
  },
  {
   "cell_type": "code",
   "execution_count": 6,
   "metadata": {},
   "outputs": [],
   "source": [
    "def check_ping(devices):\n",
    "    status_info = {}\n",
    "    ssh_list  = []\n",
    "    for tag, msip in devices.items():\n",
    "        ping_status = {}\n",
    "        for ip in msip:\n",
    "            try:\n",
    "            # Create a socket object and attempt to connect to the IP address on port 80\n",
    "                sock = socket.create_connection((ip, 80), timeout=2)\n",
    "                sock.close()\n",
    "                ping_status[ip] = 'UP'\n",
    "            except(socket.timeout, socket.error):\n",
    "                ping_status[ip] = 'DOWN'\n",
    "        status_info[tag] = ping_status\n",
    "    for tag,dev_list in status_info.items():\n",
    "        for ip,status in dev_list.items():\n",
    "            if status=='UP':\n",
    "                ssh_list.append(ip)\n",
    "                break\n",
    "    return status_info, ssh_list"
   ]
  },
  {
   "cell_type": "code",
   "execution_count": 7,
   "metadata": {},
   "outputs": [],
   "source": [
    "dev = {'SAMPLE-DUT': {'192.168.244.109', '192.168.107.109', '192.168.109.109'}, 'Sample-Dut-2': {None, '192.168.107.20'}, 'LAN-DEVICE': {'192.168.107.21', None}, 'E8K-Manu': {'192.168.107.237', None}, 'HA-DUT-1': {'192.168.107.95', None}, 'MSA-VM': {'192.168.109.137', None}, 'HA-DUT': {None, '192.168.107.96'}, 'BGP-SERVER': {'192.168.107.71', None}, 'vm': {'192.168.1.1', None}, 'TVM': {'2.2.2.2', None}}"
   ]
  },
  {
   "cell_type": "code",
   "execution_count": 9,
   "metadata": {},
   "outputs": [],
   "source": [
    "l,b = check_ping(dev)"
   ]
  },
  {
   "cell_type": "code",
   "execution_count": 11,
   "metadata": {},
   "outputs": [
    {
     "data": {
      "text/plain": [
       "['192.168.109.109',\n",
       " '192.168.107.20',\n",
       " '192.168.107.21',\n",
       " '192.168.107.237',\n",
       " '192.168.109.137',\n",
       " '192.168.107.96']"
      ]
     },
     "execution_count": 11,
     "metadata": {},
     "output_type": "execute_result"
    }
   ],
   "source": [
    "b"
   ]
  },
  {
   "cell_type": "code",
   "execution_count": 15,
   "metadata": {},
   "outputs": [],
   "source": [
    "ignore_interface = ['cni-podman0', 'fptun0',  'lo',  'veth', 'vneth', 'vnet','io','cni-podman0', 'eth-int', 'vethb', 'vnet', 'vnet','cni-podman1','docker0']"
   ]
  },
  {
   "cell_type": "code",
   "execution_count": 27,
   "metadata": {},
   "outputs": [],
   "source": [
    "def sql_connect():\n",
    "    host = \"192.168.109.137\"\n",
    "    port = 3306\n",
    "    user = \"root\"\n",
    "    password = \"password\"\n",
    "    database = \"DEVICE_TRACKER\"\n",
    "\n",
    "    # Establish a connection to the database\n",
    "    connection = mysql.connector.connect(\n",
    "        host=host,\n",
    "        port=port,\n",
    "        user=user,\n",
    "        password=password,\n",
    "        database=database\n",
    "    )\n",
    "    return connection\n",
    "# Function for retreving data from mysql database\n",
    "def get_dev_details():\n",
    "    dev = {}\n",
    "    connection = sql_connect()\n",
    "    try:\n",
    "    # Create a cursor to execute SQL queries\n",
    "        cursor = connection.cursor()\n",
    "\n",
    "        # Define the SQL query to retrieve IP and TAG from DEVICES table\n",
    "        query = r\"SELECT ip, tags, ip2, ip3 FROM field\"\n",
    "\n",
    "        # Execute the query\n",
    "        cursor.execute(query)\n",
    "\n",
    "        # Fetch all the rows\n",
    "        rows = cursor.fetchall()\n",
    "\n",
    "        # Print the results\n",
    "        for row in rows:\n",
    "            ip, tag, ip2, ip3 = row\n",
    "            dev[tag] = {ip, ip2, ip3}\n",
    "\n",
    "    except:\n",
    "        pass\n",
    "  #  cursor.close()\n",
    "    connection.close()\n",
    "    return dev\n",
    "# Function for retriving username and password of spcific device\n",
    "def get_pass_details(ip):\n",
    "    connection = sql_connect()\n",
    "    cursor = connection.cursor()\n",
    "    query =  r\"SELECT username, password FROM field WHERE ip = %s OR ip2 = %s OR ip3 = %s\"\n",
    "    cursor.execute(query, (ip,ip,ip))\n",
    "    cred = cursor.fetchone()\n",
    "    connection.close()\n",
    "    return cred"
   ]
  },
  {
   "cell_type": "code",
   "execution_count": 25,
   "metadata": {},
   "outputs": [],
   "source": [
    "def procees_interface(inf):\n",
    "    final_inf = []\n",
    "    try:\n",
    "        inf.remove('')\n",
    "    except ValueError:\n",
    "        pass\n",
    "\n",
    "    for i in inf:\n",
    "        if i[-1] == ':':\n",
    "            final_inf.append(i[:-1])\n",
    "        else:\n",
    "            final_inf.append(i)\n",
    "\n",
    "    final_inf = [interface for interface in final_inf if not any(ignore in interface for ignore in ignore_interface)]\n",
    "\n",
    "    return final_inf"
   ]
  },
  {
   "cell_type": "code",
   "execution_count": 22,
   "metadata": {},
   "outputs": [
    {
     "data": {
      "text/plain": [
       "['192.168.109.109',\n",
       " '192.168.107.20',\n",
       " '192.168.107.21',\n",
       " '192.168.107.237',\n",
       " '192.168.109.137',\n",
       " '192.168.107.96']"
      ]
     },
     "execution_count": 22,
     "metadata": {},
     "output_type": "execute_result"
    }
   ],
   "source": [
    "b"
   ]
  },
  {
   "cell_type": "code",
   "execution_count": 18,
   "metadata": {},
   "outputs": [],
   "source": [
    "def initiate_ssh(l):\n",
    "    status_check = {}\n",
    "    layer_status = {}\n",
    "    for ip in l:\n",
    "            ifconfig_status = ''\n",
    "            route_status = ''\n",
    "            arp_status = ''\n",
    "            status = {}\n",
    "            l_status = {}\n",
    "            username, password = get_pass_details(ip)\n",
    "            obj = SSHClient(ip,username,password)\n",
    "            obj.connect()\n",
    "            try:\n",
    "                interface = str(obj.run_execmcd(\"ifconfig  | awk '/^[a-zA-Z]/{print $1}'\"))\n",
    "                interface = interface.split('\\n')        \n",
    "                interface = procees_interface(interface)\n",
    "                ifconfig_status = obj.run_execmcd('ifconfig')\n",
    "                route_status = obj.run_execmcd('route -n')\n",
    "                arp_status = obj.run_execmcd('arp -a')\n",
    "                for i in interface:\n",
    "                    link = obj.run_execmcd(f\"ethtool {i} | grep 'Link detected' | awk '{{print $3}}'\")\n",
    "                    status[i] = link.strip()\n",
    "                status_check[ip] = status\n",
    "                l_status['ifconfig'] = ifconfig_status\n",
    "                l_status['route'] = route_status\n",
    "                l_status['arp'] = arp_status\n",
    "                layer_status[ip] = l_status\n",
    "                obj.close_connection()\n",
    "            except:\n",
    "                print(\"Issue facing while running ethtool\") # Failed to SSH\n",
    "    return json.dumps(status_check), json.dumps(layer_status)\n"
   ]
  },
  {
   "cell_type": "code",
   "execution_count": 19,
   "metadata": {},
   "outputs": [
    {
     "ename": "TypeError",
     "evalue": "cannot unpack non-iterable NoneType object",
     "output_type": "error",
     "traceback": [
      "\u001b[1;31m---------------------------------------------------------------------------\u001b[0m",
      "\u001b[1;31mTypeError\u001b[0m                                 Traceback (most recent call last)",
      "Cell \u001b[1;32mIn[19], line 1\u001b[0m\n\u001b[1;32m----> 1\u001b[0m \u001b[43minitiate_ssh\u001b[49m\u001b[43m(\u001b[49m\u001b[43mb\u001b[49m\u001b[43m)\u001b[49m\n",
      "Cell \u001b[1;32mIn[18], line 10\u001b[0m, in \u001b[0;36minitiate_ssh\u001b[1;34m(l)\u001b[0m\n\u001b[0;32m      8\u001b[0m status \u001b[38;5;241m=\u001b[39m {}\n\u001b[0;32m      9\u001b[0m l_status \u001b[38;5;241m=\u001b[39m {}\n\u001b[1;32m---> 10\u001b[0m username, password \u001b[38;5;241m=\u001b[39m get_pass_details(ip)\n\u001b[0;32m     11\u001b[0m obj \u001b[38;5;241m=\u001b[39m SSHClient(ip,username,password)\n\u001b[0;32m     12\u001b[0m obj\u001b[38;5;241m.\u001b[39mconnect()\n",
      "\u001b[1;31mTypeError\u001b[0m: cannot unpack non-iterable NoneType object"
     ]
    }
   ],
   "source": [
    "initiate_ssh(b)"
   ]
  },
  {
   "cell_type": "code",
   "execution_count": 28,
   "metadata": {},
   "outputs": [],
   "source": [
    "username, password = get_pass_details('192.168.109.109')"
   ]
  },
  {
   "cell_type": "code",
   "execution_count": 29,
   "metadata": {},
   "outputs": [
    {
     "data": {
      "text/plain": [
       "'root'"
      ]
     },
     "execution_count": 29,
     "metadata": {},
     "output_type": "execute_result"
    }
   ],
   "source": [
    "username"
   ]
  },
  {
   "cell_type": "code",
   "execution_count": null,
   "metadata": {},
   "outputs": [],
   "source": []
  }
 ],
 "metadata": {
  "interpreter": {
   "hash": "681b3ef418075c75cc18278c93240d76c00c065549eaf674840fa1d392e9c140"
  },
  "kernelspec": {
   "display_name": "Python 3.11.7 64-bit (windows store)",
   "language": "python",
   "name": "python3"
  },
  "language_info": {
   "codemirror_mode": {
    "name": "ipython",
    "version": 3
   },
   "file_extension": ".py",
   "mimetype": "text/x-python",
   "name": "python",
   "nbconvert_exporter": "python",
   "pygments_lexer": "ipython3",
   "version": "3.11.7"
  },
  "orig_nbformat": 4
 },
 "nbformat": 4,
 "nbformat_minor": 2
}
