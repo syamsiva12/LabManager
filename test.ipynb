{
 "cells": [
  {
   "cell_type": "code",
   "execution_count": 41,
   "metadata": {},
   "outputs": [],
   "source": [
    "import sys\n",
    "import re\n",
    "sys.path.append(r'C:/Users/shyam.p/Desktop/PRO/')\n",
    "from  lib.initiate_ssh_connection import SSHClient"
   ]
  },
  {
   "cell_type": "code",
   "execution_count": 183,
   "metadata": {},
   "outputs": [],
   "source": [
    "def  interface_status(obj):\n",
    "    status = dict()\n",
    "    m = avl_int(obj)\n",
    "    for i in m:\n",
    "        f = obj.run_execmcd(f\"ethtool {i} | grep 'Link detected' | awk '{{print $3}}'\")\n",
    "        status[i] = f.strip()\n",
    "    for i in list(status.keys()):\n",
    "        if status[i] == '':\n",
    "            status.pop(i)\n",
    "    return status\n"
   ]
  },
  {
   "cell_type": "code",
   "execution_count": 167,
   "metadata": {},
   "outputs": [
    {
     "data": {
      "text/plain": [
       "{}"
      ]
     },
     "execution_count": 167,
     "metadata": {},
     "output_type": "execute_result"
    }
   ],
   "source": [
    "interface_status(obj)"
   ]
  },
  {
   "cell_type": "code",
   "execution_count": 168,
   "metadata": {},
   "outputs": [],
   "source": [
    "x = (obj.run_execmcd(\"ip route | grep default | awk '{print $3}'\")).strip()\n"
   ]
  },
  {
   "cell_type": "code",
   "execution_count": 184,
   "metadata": {},
   "outputs": [],
   "source": [
    "def troubleshoot(obj):\n",
    "    count = 1\n",
    "    report = ''\n",
    "    issu_int = []\n",
    "    # Get the default gateway\n",
    "    gate_way = (obj.run_execmcd(\"ip route | grep default | awk '{print $3}'\")).strip()\n",
    "    \n",
    "    if not gate_way:\n",
    "        return \"Error: Default gateway not found.\"\n",
    "\n",
    "    # Ping the default gateway\n",
    "    ping_out = obj.run_execmcd(f'ping -c 4 {gate_way}')\n",
    "    \n",
    "    # Parse ping output\n",
    "    pattern = re.compile(r'(\\d+)% packet loss')\n",
    "    match = pattern.search(ping_out)\n",
    "\n",
    "    if match:\n",
    "            packet_loss = int(match.group(1))\n",
    "\n",
    "            if packet_loss == 0:\n",
    "                report += f'{str(count)} --> Gateway {gate_way} is reachable\\n'\n",
    "                count += 1\n",
    "            else:\n",
    "                report += f'{str(count)} --> Gateway {gate_way} is not reachable\\n'\n",
    "                count += 1\n",
    "    else:\n",
    "         report += f\"Error: Unable to parse packet loss information for {gate_way}\\n\"\n",
    "        \n",
    "    interfaces = interface_status(obj)\n",
    "    for i in list(dict(interfaces).keys()):\n",
    "        if interfaces[i] == 'no':\n",
    "            issu_int.append(i)\n",
    "    if issu_int[0] != '':\n",
    "        report =  report + f'{str(count)} --> ' + 'Down Interface are' + '\\n'\n",
    "        count += count\n",
    "        for i in issu_int:\n",
    "            report =  report + '\\t' + i +'\\n'\n",
    "    else:\n",
    "        report = report + f'{str(count)} -->' + 'All Interface are up'\n",
    "\n",
    "    return report"
   ]
  },
  {
   "cell_type": "code",
   "execution_count": 185,
   "metadata": {},
   "outputs": [
    {
     "name": "stdout",
     "output_type": "stream",
     "text": [
      "1 --> Gateway 192.168.107.1 is reachable\n",
      "2 --> Down Interface are\n",
      "\teth2\n",
      "\n"
     ]
    }
   ],
   "source": [
    "print(troubleshoot(obj))"
   ]
  },
  {
   "cell_type": "code",
   "execution_count": 156,
   "metadata": {},
   "outputs": [],
   "source": [
    "### intractive shell\n",
    "import paramiko"
   ]
  },
  {
   "cell_type": "code",
   "execution_count": 158,
   "metadata": {},
   "outputs": [
    {
     "name": "stdout",
     "output_type": "stream",
     "text": [
      "[root @ 2900aPoE/]# ls\n",
      "bin    etc    lib    mnt    sbin   tmp    var\n",
      "dev    home   lib32  proc   sys    usr\n",
      "[root @ 2900aPoE/]# q\n",
      "-sh: q: command not found\n",
      "[root @ 2900aPoE/]# \n",
      "[root @ 2900aPoE/]# \n",
      "[root @ 2900aPoE/]# \n",
      "[root @ 2900aPoE/]# \n",
      "[root @ 2900aPoE/]# \n",
      "[root @ 2900aPoE/]# \n",
      "[root @ 2900aPoE/]# \n",
      "[root @ 2900aPoE/]# \n",
      "[root @ 2900aPoE/]# \n",
      "[root @ 2900aPoE/]# \n",
      "[root @ 2900aPoE/]# \n",
      "[root @ 2900aPoE/]# \n",
      "[root @ 2900aPoE/]# \n",
      "[root @ 2900aPoE/]# \n",
      "[root @ 2900aPoE/]# q\n",
      "-sh: q: command not found\n",
      "[root @ 2900aPoE/]# \n",
      "[root @ 2900aPoE/]# \n",
      "[root @ 2900aPoE/]# \n",
      "[root @ 2900aPoE/]# \n",
      "[root @ 2900aPoE/]# "
     ]
    }
   ],
   "source": [
    "def spawn_ssh_terminal(host, username, password, port=22):\n",
    "    # Create an SSH client\n",
    "    ssh = paramiko.SSHClient()\n",
    "\n",
    "    try:\n",
    "        # Automatically add the server's host key (this is insecure, see comments below)\n",
    "        ssh.set_missing_host_key_policy(paramiko.AutoAddPolicy())\n",
    "\n",
    "        # Connect to the remote server\n",
    "        ssh.connect(host, port=port, username=username, password=password)\n",
    "\n",
    "        # Open an interactive SSH session (pseudo-terminal)\n",
    "        channel = ssh.invoke_shell()\n",
    "\n",
    "        # You can interact with the channel, send and receive commands\n",
    "        while True:\n",
    "            command = input(\"Enter command (or 'exit' to quit): \")\n",
    "            if command.lower() == 'exit':\n",
    "                break\n",
    "\n",
    "            # Send the command to the server\n",
    "            channel.send(command + '\\n')\n",
    "\n",
    "            # Receive and print the output\n",
    "            output = channel.recv(1024).decode('utf-8')\n",
    "            print(output, end='')\n",
    "\n",
    "    finally:\n",
    "        # Close the SSH connection\n",
    "        ssh.close()\n",
    "\n",
    "# Replace these with your actual SSH server details\n",
    "host = '192.168.107.95'\n",
    "username = 'root'\n",
    "password = 'ewn@123'\n",
    "\n",
    "spawn_ssh_terminal(host, username, password)"
   ]
  },
  {
   "cell_type": "code",
   "execution_count": null,
   "metadata": {},
   "outputs": [],
   "source": [
    "################################### Database Testing #########################################################"
   ]
  },
  {
   "cell_type": "code",
   "execution_count": 44,
   "metadata": {},
   "outputs": [],
   "source": [
    "############# NEED TO FUNCTION ###################################################\n",
    "import mysql.connector\n",
    "\n",
    "\n",
    "# Replace these values with your actual database credentials\n",
    "def sql_connect():\n",
    "    host = \"192.168.109.137\"\n",
    "    port = 3306\n",
    "    user = \"root\"\n",
    "    password = \"password\"\n",
    "    database = \"DEVICE_TRACKER\"\n",
    "\n",
    "    # Establish a connection to the database\n",
    "    connection = mysql.connector.connect(\n",
    "        host=host,\n",
    "        port=port,\n",
    "        user=user,\n",
    "        password=password,\n",
    "        database=database\n",
    "    )\n",
    "    return connection"
   ]
  },
  {
   "cell_type": "code",
   "execution_count": 49,
   "metadata": {},
   "outputs": [],
   "source": [
    "\n",
    "\n",
    "def get_dev_details():\n",
    "    dev = {}\n",
    "    connection = sql_connect()\n",
    "    try:\n",
    "    # Create a cursor to execute SQL queries\n",
    "        cursor = connection.cursor()\n",
    "\n",
    "        # Define the SQL query to retrieve IP and TAG from DEVICES table\n",
    "        query = r\"SELECT ip, tags FROM field\"\n",
    "\n",
    "        # Execute the query\n",
    "        cursor.execute(query)\n",
    "\n",
    "        # Fetch all the rows\n",
    "        rows = cursor.fetchall()\n",
    "\n",
    "        # Print the results\n",
    "        for row in rows:\n",
    "            ip, tag = row\n",
    "            dev[ip] = tag\n",
    "\n",
    "    except:\n",
    "        pass\n",
    "  #  cursor.close()\n",
    "    connection.close()\n",
    "    return dev\n",
    "\n",
    "def get_pass_details(ip):\n",
    "    connection = sql_connect()\n",
    "    cursor = connection.cursor()\n",
    "    query =  r\"SELECT username, password FROM field WHERE IP = %s\"\n",
    "    cursor.execute(query, (ip,))\n",
    "    cred = cursor.fetchone()\n",
    "    connection.close()\n",
    "    return cred\n",
    "\n",
    "\n"
   ]
  },
  {
   "cell_type": "code",
   "execution_count": 51,
   "metadata": {},
   "outputs": [
    {
     "data": {
      "text/plain": [
       "{'192.16.107.71': 'BGP_SERVER',\n",
       " '192.16.2.1': 'Database ,Server',\n",
       " '192.168.107.109': 'SAMPLE-DUT',\n",
       " '192.168.107.20': 'Sample-Dut-2',\n",
       " '192.168.107.21': 'LAN-DEVICE',\n",
       " '192.168.107.237': 'E8K-Manu',\n",
       " '192.168.107.95': 'HA-DUT-1',\n",
       " '192.168.109.137': 'MSA-VM',\n",
       " '192.168.107.96': 'HA-DUT'}"
      ]
     },
     "execution_count": 51,
     "metadata": {},
     "output_type": "execute_result"
    }
   ],
   "source": [
    "l = get_dev_details()\n",
    "l"
   ]
  },
  {
   "cell_type": "code",
   "execution_count": 97,
   "metadata": {},
   "outputs": [
    {
     "data": {
      "text/plain": [
       "('root', 'ewn@123')"
      ]
     },
     "execution_count": 97,
     "metadata": {},
     "output_type": "execute_result"
    }
   ],
   "source": [
    "l = get_pass_details('192.168.107.95')\n",
    "l"
   ]
  },
  {
   "cell_type": "code",
   "execution_count": null,
   "metadata": {},
   "outputs": [],
   "source": []
  },
  {
   "cell_type": "code",
   "execution_count": 134,
   "metadata": {},
   "outputs": [
    {
     "data": {
      "text/plain": [
       "{'192.168.107.21': 'UP', '192.168.107.95': 'DOWN'}"
      ]
     },
     "execution_count": 134,
     "metadata": {},
     "output_type": "execute_result"
    }
   ],
   "source": [
    "import socket\n",
    "####################################################### PING CHECk CODE##################################\n",
    "def check_ping(devices):\n",
    "    ping_status = dict()\n",
    "    for ip, tag in devices.items():\n",
    "        try:\n",
    "            # Create a socket object and attempt to connect to the IP address on port 80\n",
    "            sock = socket.create_connection((ip, 80), timeout=2)\n",
    "            sock.close()\n",
    "            ping_status[ip] = 'UP'\n",
    "        except (socket.timeout, socket.error):\n",
    "            ping_status[ip] = 'DOWN'\n",
    "    return ping_status\n",
    "\n",
    "check_ping(dev)\n"
   ]
  },
  {
   "cell_type": "code",
   "execution_count": 129,
   "metadata": {},
   "outputs": [],
   "source": [
    "################################################# Initiating SSH FOR STATUS CHECK ##############################\n",
    "\n",
    "def initiate_ssh(dev):\n",
    "    status_check = {}\n",
    "    for ip, _ in dev.items():\n",
    "        status = {}\n",
    "        username, password = get_pass_details(ip)\n",
    "        obj = SSHClient(ip,username,password)\n",
    "        obj.connect()\n",
    "        intefaces = obj.run_execmcd(\"ifconfig  | awk '/^[a-zA-Z]/{print $1}'\")\n",
    "        intefaces = intefaces.split('\\n')\n",
    "        intefaces.remove('')\n",
    "        intefaces.remove('lo')\n",
    "        for i in intefaces:\n",
    "            interface = obj.run_execmcd(f\"ethtool {i} | grep 'Link detected' | awk '{{print $3}}'\")\n",
    "            status[i] = interface.strip()\n",
    "        status_check[ip] = status\n",
    "        obj.close_connection()\n",
    "    return status_check\n",
    "################################################## Completed ###################################################"
   ]
  },
  {
   "cell_type": "code",
   "execution_count": 130,
   "metadata": {},
   "outputs": [
    {
     "name": "stdout",
     "output_type": "stream",
     "text": [
      "Connected to 192.168.107.21\n",
      "Connection to 192.168.107.21 closed.\n",
      "Connected to 192.168.107.95\n",
      "Connection to 192.168.107.95 closed.\n"
     ]
    },
    {
     "data": {
      "text/plain": [
       "{'192.168.107.21': {'eth0': 'yes', 'eth1': 'yes', 'eth2': 'yes'},\n",
       " '192.168.107.95': {'eth0': 'yes', 'eth1': 'yes', 'eth2': 'yes'}}"
      ]
     },
     "execution_count": 130,
     "metadata": {},
     "output_type": "execute_result"
    }
   ],
   "source": [
    "l = initiate_ssh(dev)\n",
    "l"
   ]
  },
  {
   "cell_type": "code",
   "execution_count": 131,
   "metadata": {},
   "outputs": [
    {
     "data": {
      "text/plain": [
       "{'192.168.107.21': {'eth0': 'yes', 'eth1': 'yes', 'eth2': 'yes'},\n",
       " '192.168.107.95': {'eth0': 'yes', 'eth1': 'yes', 'eth2': 'yes'}}"
      ]
     },
     "execution_count": 131,
     "metadata": {},
     "output_type": "execute_result"
    }
   ],
   "source": [
    "########################################### Ping Check #########################################################\n"
   ]
  },
  {
   "cell_type": "code",
   "execution_count": 100,
   "metadata": {},
   "outputs": [
    {
     "name": "stdout",
     "output_type": "stream",
     "text": [
      "Device1 (192.168.107.21) is UP\n",
      "Device2 (192.168.107.22) is DOWN\n"
     ]
    }
   ],
   "source": [
    "import socket\n",
    "\n",
    "def check_ping(ip_address, port=80, timeout=2):\n",
    "    sock = socket.socket(socket.AF_INET, socket.SOCK_STREAM)\n",
    "    sock.settimeout(timeout)\n",
    "    result = sock.connect_ex((ip_address, port))\n",
    "    sock.close()\n",
    "\n",
    "    return result == 0  # 0 means the connection was successful\n",
    "\n",
    "# Example usage\n",
    "devices = {'192.168.107.21': 'Device1', '192.168.107.22': 'Device2'}\n",
    "ping_status = {ip: 'UP' if check_ping(ip) else 'DOWN' for ip in devices}\n",
    "\n",
    "for ip, status in ping_status.items():\n",
    "    print(f\"{devices[ip]} ({ip}) is {status}\")\n"
   ]
  },
  {
   "cell_type": "code",
   "execution_count": 38,
   "metadata": {},
   "outputs": [
    {
     "name": "stdout",
     "output_type": "stream",
     "text": [
      "\n"
     ]
    }
   ],
   "source": [
    "import paramiko\n",
    "\n",
    "# Set your SSH parameters\n",
    "hostname = '192.168.109.73'\n",
    "port = 22\n",
    "username = 'thinkpalm'\n",
    "password = 'Think@123'\n",
    "\n",
    "# Create an SSH client\n",
    "ssh = paramiko.SSHClient()\n",
    "ssh.set_missing_host_key_policy(paramiko.AutoAddPolicy())\n",
    "\n",
    "try:\n",
    "    # Connect to the remote server\n",
    "    ssh.connect(hostname, port, username, password)\n",
    "\n",
    "    # Execute the 'ifconfig' command\n",
    "    ifconfig_command = \"route -n\"\n",
    "    stdin, stdout, stderr = ssh.exec_command(ifconfig_command)\n",
    "    print(str(stdout.read().decode(errors='replace')))\n",
    "    # Print the output of the 'ifconfig' command\n",
    "    #stdout = str(stdout.read().decode())\n",
    "    #stdout = stdout.split('\\n')\n",
    "    #print(stdout)\n",
    "    #stdout.remove('')\n",
    "    ##   if i[-1] == ':':\n",
    "      #      print(i[:-1])\n",
    "finally:\n",
    "    # Close the SSH connection\n",
    "    ssh.close()\n"
   ]
  },
  {
   "cell_type": "code",
   "execution_count": 1,
   "metadata": {},
   "outputs": [],
   "source": [
    "ignore_interface = ['cni-podman0:', 'fptun0:', 'ge1:', 'ge2:', 'ge3:', 'ge4:', 'ge5:', 'ge6:', 'ge7:', 'ge8:', 'lo:', 'sfp9:', 'sfp10:', 'veth707a8e75:', 'vnet1:', 'vnet3:','io','cni-podman0:', 'eth-int:', 'veth6128b75f:', 'vnet0:', 'vnet2:', '']"
   ]
  },
  {
   "cell_type": "code",
   "execution_count": 6,
   "metadata": {},
   "outputs": [],
   "source": [
    "remove_inf = ['sfp10', 'veth707a8e75', 'vnet1', 'vnet3','io','cni-podman0', 'eth-int', 'veth6128b75f', 'vnet0', 'vnet2']"
   ]
  },
  {
   "cell_type": "code",
   "execution_count": 7,
   "metadata": {},
   "outputs": [],
   "source": [
    "### Interface process\n",
    "\n",
    "def procees_interface(inf):\n",
    "    final_inf = []\n",
    "    try:\n",
    "        inf.remove('')\n",
    "    except:\n",
    "        pass\n",
    "    for i in inf:\n",
    "        if i[-1] == ':':\n",
    "            final_inf.append(i[:-1])\n",
    "        else:\n",
    "            final_inf.append(i)\n",
    "    for i in remove_inf:\n",
    "        try:\n",
    "            final_inf.remove(i)\n",
    "        except:\n",
    "            pass\n",
    "    return final_inf"
   ]
  },
  {
   "cell_type": "code",
   "execution_count": 8,
   "metadata": {},
   "outputs": [
    {
     "name": "stdout",
     "output_type": "stream",
     "text": [
      "['fptun0', 'ge1', 'ge2', 'ge3', 'ge4', 'ge5', 'ge6', 'ge7', 'ge8', 'lo', 'sfp9', 'cni-podman0']\n"
     ]
    }
   ],
   "source": [
    "procees_interface(ignore_interface)"
   ]
  },
  {
   "cell_type": "code",
   "execution_count": 7,
   "metadata": {},
   "outputs": [
    {
     "name": "stdout",
     "output_type": "stream",
     "text": [
      "['eth0']\n"
     ]
    }
   ],
   "source": [
    "ignore_interface = ['cni-podman0', 'fptun0',  'lo',  'veth', 'vneth', 'vnet','io','cni-podman0', 'eth-int', 'vethb', 'vnet', 'vnet','cni-podman1','docker0']\n",
    "\n",
    "def process_interface(inf):\n",
    "    final_inf = []\n",
    "    try:\n",
    "        inf.remove('')\n",
    "    except ValueError:\n",
    "        pass\n",
    "\n",
    "    for i in inf:\n",
    "        if i[-1] == ':':\n",
    "            final_inf.append(i[:-1])\n",
    "        else:\n",
    "            final_inf.append(i)\n",
    "\n",
    "    # Remove interfaces based on substrings in ignore_interface\n",
    "    final_inf = [interface for interface in final_inf if not any(ignore in interface for ignore in ignore_interface)]\n",
    "\n",
    "    return final_inf\n",
    "\n",
    "# Example usage:\n",
    "input_interfaces = ['eth0', 'cni-podman0', 'vnet2', 'docker0', 'fptun0', 'veth707a8e75','vethb0e86d3','vnet1']\n",
    "processed_interfaces = process_interface(input_interfaces)\n",
    "print(processed_interfaces)\n"
   ]
  },
  {
   "cell_type": "code",
   "execution_count": null,
   "metadata": {},
   "outputs": [],
   "source": []
  }
 ],
 "metadata": {
  "kernelspec": {
   "display_name": "Python 3",
   "language": "python",
   "name": "python3"
  },
  "language_info": {
   "codemirror_mode": {
    "name": "ipython",
    "version": 3
   },
   "file_extension": ".py",
   "mimetype": "text/x-python",
   "name": "python",
   "nbconvert_exporter": "python",
   "pygments_lexer": "ipython3",
   "version": "3.11.4"
  },
  "orig_nbformat": 4
 },
 "nbformat": 4,
 "nbformat_minor": 2
}
